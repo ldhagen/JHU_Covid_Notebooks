{
 "cells": [
  {
   "cell_type": "code",
   "execution_count": 7,
   "metadata": {},
   "outputs": [],
   "source": [
    "import pandas as pd\n",
    "import matplotlib.pyplot as plt\n",
    "import numpy as np\n",
    "import datetime\n",
    "from datetime import date, timedelta\n",
    "import pickle\n",
    "%matplotlib inline"
   ]
  },
  {
   "cell_type": "markdown",
   "metadata": {},
   "source": [
    "Update end date below to the previous day's date"
   ]
  },
  {
   "cell_type": "code",
   "execution_count": 8,
   "metadata": {},
   "outputs": [
    {
     "data": {
      "text/plain": [
       "'12/27/2021'"
      ]
     },
     "execution_count": 8,
     "metadata": {},
     "output_type": "execute_result"
    }
   ],
   "source": [
    "yesterday = date.today() - timedelta(days=1)\n",
    "yesterday.strftime('%m/%d/%Y')"
   ]
  },
  {
   "cell_type": "code",
   "execution_count": null,
   "metadata": {},
   "outputs": [],
   "source": []
  },
  {
   "cell_type": "code",
   "execution_count": 10,
   "metadata": {},
   "outputs": [
    {
     "ename": "NameError",
     "evalue": "name 'x' is not defined",
     "output_type": "error",
     "traceback": [
      "\u001b[0;31m---------------------------------------------------------------------------\u001b[0m",
      "\u001b[0;31mNameError\u001b[0m                                 Traceback (most recent call last)",
      "\u001b[0;32m<ipython-input-10-bf896a968c4b>\u001b[0m in \u001b[0;36m<module>\u001b[0;34m\u001b[0m\n\u001b[1;32m      1\u001b[0m \u001b[0mdate_list\u001b[0m \u001b[0;34m=\u001b[0m \u001b[0;34m[\u001b[0m\u001b[0;34m]\u001b[0m\u001b[0;34m\u001b[0m\u001b[0;34m\u001b[0m\u001b[0m\n\u001b[0;32m----> 2\u001b[0;31m \u001b[0;32mfor\u001b[0m \u001b[0mdate_value\u001b[0m \u001b[0;32min\u001b[0m \u001b[0mx\u001b[0m\u001b[0;34m.\u001b[0m\u001b[0mstrftime\u001b[0m\u001b[0;34m(\u001b[0m\u001b[0;34m'%m-%d-%Y'\u001b[0m\u001b[0;34m)\u001b[0m\u001b[0;34m:\u001b[0m\u001b[0;34m\u001b[0m\u001b[0;34m\u001b[0m\u001b[0m\n\u001b[0m\u001b[1;32m      3\u001b[0m     \u001b[0mdate_list\u001b[0m\u001b[0;34m.\u001b[0m\u001b[0mappend\u001b[0m\u001b[0;34m(\u001b[0m\u001b[0mdate_value\u001b[0m\u001b[0;34m)\u001b[0m\u001b[0;34m\u001b[0m\u001b[0;34m\u001b[0m\u001b[0m\n\u001b[1;32m      4\u001b[0m \u001b[0mdt_date_list\u001b[0m \u001b[0;34m=\u001b[0m \u001b[0mpd\u001b[0m\u001b[0;34m.\u001b[0m\u001b[0mto_datetime\u001b[0m\u001b[0;34m(\u001b[0m\u001b[0mpd\u001b[0m\u001b[0;34m.\u001b[0m\u001b[0mSeries\u001b[0m\u001b[0;34m(\u001b[0m\u001b[0mdate_list\u001b[0m\u001b[0;34m)\u001b[0m\u001b[0;34m)\u001b[0m\u001b[0;34m\u001b[0m\u001b[0;34m\u001b[0m\u001b[0m\n",
      "\u001b[0;31mNameError\u001b[0m: name 'x' is not defined"
     ]
    }
   ],
   "source": [
    "date_list = []\n",
    "for date_value in x.strftime('%m-%d-%Y'):\n",
    "    date_list.append(date_value)\n",
    "dt_date_list = pd.to_datetime(pd.Series(date_list))"
   ]
  },
  {
   "cell_type": "markdown",
   "metadata": {},
   "source": [
    "https://github.com/CSSEGISandData/COVID-19"
   ]
  },
  {
   "cell_type": "code",
   "execution_count": null,
   "metadata": {},
   "outputs": [],
   "source": [
    "df_jhu_total_dict= {}\n",
    "for y in range(len(date_list)):\n",
    "    url_value = r'https://raw.githubusercontent.com/CSSEGISandData/COVID-19/master/csse_covid_19_data/csse_covid_19_daily_reports/' + date_list[y] + r'.csv'\n",
    "    df_jhu_total_dict[date_list[y]] = pd.read_csv(url_value,header=0)\n",
    "    df_jhu_total_dict[date_list[y]]['dt_date'] = dt_date_list[y]\n",
    "    print(date_list[y])"
   ]
  },
  {
   "cell_type": "code",
   "execution_count": null,
   "metadata": {},
   "outputs": [],
   "source": []
  },
  {
   "cell_type": "code",
   "execution_count": null,
   "metadata": {},
   "outputs": [],
   "source": []
  },
  {
   "cell_type": "code",
   "execution_count": null,
   "metadata": {},
   "outputs": [],
   "source": []
  },
  {
   "cell_type": "code",
   "execution_count": null,
   "metadata": {},
   "outputs": [],
   "source": [
    "pd.set_option('display.max_columns', None)"
   ]
  },
  {
   "cell_type": "code",
   "execution_count": null,
   "metadata": {},
   "outputs": [],
   "source": [
    "pd.set_option('display.max_rows', None)"
   ]
  },
  {
   "cell_type": "code",
   "execution_count": null,
   "metadata": {},
   "outputs": [],
   "source": [
    "total_key_list = list(df_jhu_total_dict.keys())\n",
    "part_key_list = total_key_list[300::]"
   ]
  },
  {
   "cell_type": "code",
   "execution_count": null,
   "metadata": {},
   "outputs": [],
   "source": [
    "part_key_list[0]"
   ]
  },
  {
   "cell_type": "code",
   "execution_count": null,
   "metadata": {},
   "outputs": [],
   "source": [
    "df_jhu_total_dict['01-01-2021']"
   ]
  },
  {
   "cell_type": "code",
   "execution_count": null,
   "metadata": {},
   "outputs": [],
   "source": [
    "Bexar_temp_list = []\n",
    "for x in part_key_list:\n",
    "    print(x)\n",
    "    print(pd.to_datetime(x))\n",
    "    print(df_jhu_total_dict[x][df_jhu_total_dict[x].Admin2 == 'Bexar'].dt_date.values)\n",
    "    print(df_jhu_total_dict[x][df_jhu_total_dict[x].Admin2 == 'Bexar'].Confirmed.values)\n",
    "    print(df_jhu_total_dict[x][df_jhu_total_dict[x].Admin2 == 'Bexar'].Deaths.values)\n",
    "    print(df_jhu_total_dict[x][df_jhu_total_dict[x].Admin2 == 'Bexar'].Case_Fatality_Ratio.values)\n",
    "    Bexar_temp_list.append((pd.to_datetime(str(x)), df_jhu_total_dict[x][df_jhu_total_dict[x].Admin2 == 'Bexar'].dt_date.values, int(df_jhu_total_dict[x][df_jhu_total_dict[x].Admin2 == 'Bexar'].Confirmed.values), int(df_jhu_total_dict[x][df_jhu_total_dict[x].Admin2 == 'Bexar'].Deaths.values),df_jhu_total_dict[x][df_jhu_total_dict[x].Admin2 == 'Bexar'].Case_Fatality_Ratio.values))"
   ]
  },
  {
   "cell_type": "code",
   "execution_count": null,
   "metadata": {},
   "outputs": [],
   "source": [
    "Bexar_temp_list[-1]"
   ]
  },
  {
   "cell_type": "code",
   "execution_count": null,
   "metadata": {},
   "outputs": [],
   "source": [
    "type(Bexar_temp_list)"
   ]
  },
  {
   "cell_type": "code",
   "execution_count": null,
   "metadata": {},
   "outputs": [],
   "source": [
    "Bexar_temp_list[0][4]"
   ]
  },
  {
   "cell_type": "code",
   "execution_count": null,
   "metadata": {},
   "outputs": [],
   "source": [
    "df_Bexar_temp = pd.DataFrame.from_records(Bexar_temp_list, columns = ['Date_dt', 'Date', 'Confirmed', 'Deaths', 'Fatality_Ratio'])"
   ]
  },
  {
   "cell_type": "code",
   "execution_count": null,
   "metadata": {},
   "outputs": [],
   "source": [
    "df_Bexar_temp.info()"
   ]
  },
  {
   "cell_type": "code",
   "execution_count": null,
   "metadata": {},
   "outputs": [],
   "source": [
    "df_Bexar_temp['Fatality_Ratio'] = df_Bexar_temp.Fatality_Ratio.astype(float)"
   ]
  },
  {
   "cell_type": "code",
   "execution_count": null,
   "metadata": {},
   "outputs": [],
   "source": [
    "df_Bexar_temp.info()"
   ]
  },
  {
   "cell_type": "code",
   "execution_count": null,
   "metadata": {},
   "outputs": [],
   "source": [
    "df_Bexar_temp[df_Bexar_temp.Fatality_Ratio == df_Bexar_temp.Fatality_Ratio.min()]"
   ]
  },
  {
   "cell_type": "code",
   "execution_count": null,
   "metadata": {},
   "outputs": [],
   "source": [
    "df_Bexar_temp[df_Bexar_temp.Fatality_Ratio == df_Bexar_temp.Fatality_Ratio.max()]"
   ]
  },
  {
   "cell_type": "code",
   "execution_count": null,
   "metadata": {},
   "outputs": [],
   "source": [
    "df_Bexar_temp2 = df_Bexar_temp[['Date_dt','Fatality_Ratio']]"
   ]
  },
  {
   "cell_type": "code",
   "execution_count": null,
   "metadata": {},
   "outputs": [],
   "source": [
    "df_Bexar_temp2.info()"
   ]
  },
  {
   "cell_type": "code",
   "execution_count": null,
   "metadata": {},
   "outputs": [],
   "source": [
    "df_Bexar_temp2.head(1)"
   ]
  },
  {
   "cell_type": "code",
   "execution_count": null,
   "metadata": {},
   "outputs": [],
   "source": [
    "c = df_Bexar_temp2.set_index('Date_dt')"
   ]
  },
  {
   "cell_type": "code",
   "execution_count": null,
   "metadata": {},
   "outputs": [],
   "source": [
    "import datetime\n",
    "import matplotlib.dates as mdates\n",
    "months = mdates.MonthLocator()\n",
    "days = mdates.DayLocator()\n",
    "timeFmt = mdates.DateFormatter('%b %Y')\n",
    "fig, ax = plt.subplots()\n",
    "fig.set_size_inches(15,8)\n",
    "ax.xaxis.set_major_locator(months)\n",
    "ax.xaxis.set_major_formatter(timeFmt)\n",
    "ax.xaxis.set_minor_locator(days)\n",
    "plt.xlabel('Date',color='black')\n",
    "plt.ylabel('Bexar Covid Fatality Ratio',color='black')\n",
    "plt.title('Bexar County Covid Fatality Ratio Per Johns Hopkins')\n",
    "plt.plot(c)"
   ]
  },
  {
   "cell_type": "code",
   "execution_count": null,
   "metadata": {},
   "outputs": [],
   "source": [
    "Combined_Key_list = list(df_jhu_total_dict[yesterday.strftime('%m-%d-%Y')][df_jhu_total_dict[yesterday.strftime('%m-%d-%Y')].Country_Region == 'US'].Combined_Key.unique())"
   ]
  },
  {
   "cell_type": "code",
   "execution_count": null,
   "metadata": {},
   "outputs": [],
   "source": [
    "Combined_Key_list[1011]"
   ]
  },
  {
   "cell_type": "code",
   "execution_count": null,
   "metadata": {},
   "outputs": [],
   "source": [
    "for x in Combined_Key_list:\n",
    "    if ' New York' in x.split(',')[-2]:\n",
    "        print(x)"
   ]
  },
  {
   "cell_type": "code",
   "execution_count": null,
   "metadata": {},
   "outputs": [],
   "source": [
    "list_states_etc = []\n",
    "for x in Combined_Key_list:\n",
    "    if ' US' in x.split(',')[-1]:\n",
    "        list_states_etc.append(x.split(',')[1:])\n",
    "unique_list_states_etc = []\n",
    "for x in list_states_etc:\n",
    "    if not x in unique_list_states_etc:\n",
    "        unique_list_states_etc.append(x)\n",
    "print(unique_list_states_etc)\n",
    "len(unique_list_states_etc)"
   ]
  },
  {
   "cell_type": "code",
   "execution_count": null,
   "metadata": {
    "scrolled": true
   },
   "outputs": [],
   "source": [
    "test1 = unique_list_states_etc[7]\n",
    "print(test1)\n",
    "for x in Combined_Key_list:\n",
    "    if x.split(',')[1:] == test1:\n",
    "         print(x)"
   ]
  },
  {
   "cell_type": "code",
   "execution_count": null,
   "metadata": {},
   "outputs": [],
   "source": [
    "latest_key = list(df_jhu_total_dict.keys())[-1]\n",
    "print(latest_key)"
   ]
  },
  {
   "cell_type": "code",
   "execution_count": null,
   "metadata": {},
   "outputs": [],
   "source": [
    "df_jhu_total_dict[latest_key][df_jhu_total_dict[latest_key].Combined_Key == 'Hartford, Connecticut, US']"
   ]
  },
  {
   "cell_type": "code",
   "execution_count": null,
   "metadata": {},
   "outputs": [],
   "source": [
    "df_jhu_total_dict[latest_key][df_jhu_total_dict[latest_key].Combined_Key == 'Hartford, Connecticut, US']['Incident_Rate']"
   ]
  },
  {
   "cell_type": "code",
   "execution_count": null,
   "metadata": {},
   "outputs": [],
   "source": [
    "df_jhu_total_dict[latest_key][df_jhu_total_dict[latest_key].Combined_Key.str.contains(r' Texas, US')]['Incident_Rate'].max()"
   ]
  },
  {
   "cell_type": "code",
   "execution_count": null,
   "metadata": {
    "scrolled": false
   },
   "outputs": [],
   "source": [
    "df_jhu_total_dict[latest_key][df_jhu_total_dict[latest_key].Combined_Key.str.contains(r' Texas, US')]['Case_Fatality_Ratio'].max()"
   ]
  },
  {
   "cell_type": "code",
   "execution_count": null,
   "metadata": {
    "scrolled": true
   },
   "outputs": [],
   "source": [
    "df_jhu_total_dict[latest_key][df_jhu_total_dict[latest_key]['Case_Fatality_Ratio'] == 7.905544147843942]"
   ]
  },
  {
   "cell_type": "code",
   "execution_count": null,
   "metadata": {},
   "outputs": [],
   "source": [
    "current_temp_list = []\n",
    "for ckey_value in ['Cook, Illinois, US']:\n",
    "    for x in part_key_list:\n",
    "        print(ckey_value, x)\n",
    "        print(pd.to_datetime(x))\n",
    "        print(df_jhu_total_dict[x][df_jhu_total_dict[x].Combined_Key == ckey_value].dt_date.values)\n",
    "        print(df_jhu_total_dict[x][df_jhu_total_dict[x].Combined_Key == ckey_value].Confirmed.values)\n",
    "        print(df_jhu_total_dict[x][df_jhu_total_dict[x].Combined_Key == ckey_value].Deaths.values)\n",
    "        print(df_jhu_total_dict[x][df_jhu_total_dict[x].Combined_Key == ckey_value].Case_Fatality_Ratio.values)\n",
    "        current_temp_list.append((pd.to_datetime(str(x)), df_jhu_total_dict[x][df_jhu_total_dict[x].Combined_Key == ckey_value].dt_date.values, int(df_jhu_total_dict[x][df_jhu_total_dict[x].Combined_Key == ckey_value].Confirmed.values), int(df_jhu_total_dict[x][df_jhu_total_dict[x].Combined_Key == ckey_value].Deaths.values),df_jhu_total_dict[x][df_jhu_total_dict[x].Combined_Key == ckey_value].Case_Fatality_Ratio.values))\n",
    "df_current_temp = pd.DataFrame.from_records(current_temp_list, columns = ['Date_dt', 'Date', 'Confirmed', 'Deaths', 'Fatality_Ratio'])\n"
   ]
  },
  {
   "cell_type": "code",
   "execution_count": null,
   "metadata": {},
   "outputs": [],
   "source": [
    "current_temp_list"
   ]
  },
  {
   "cell_type": "code",
   "execution_count": null,
   "metadata": {},
   "outputs": [],
   "source": [
    "df_current_temp2 = df_current_temp[['Date_dt','Fatality_Ratio']]"
   ]
  },
  {
   "cell_type": "code",
   "execution_count": null,
   "metadata": {},
   "outputs": [],
   "source": [
    "c = df_current_temp2.set_index('Date_dt')"
   ]
  },
  {
   "cell_type": "code",
   "execution_count": null,
   "metadata": {},
   "outputs": [],
   "source": [
    "import datetime\n",
    "import matplotlib.dates as mdates\n",
    "months = mdates.MonthLocator()\n",
    "days = mdates.DayLocator()\n",
    "timeFmt = mdates.DateFormatter('%b %Y')\n",
    "fig, ax = plt.subplots()\n",
    "fig.set_size_inches(15,8)\n",
    "ax.xaxis.set_major_locator(months)\n",
    "ax.xaxis.set_major_formatter(timeFmt)\n",
    "ax.xaxis.set_minor_locator(days)\n",
    "plt.xlabel('Date',color='black')\n",
    "plt.ylabel(ckey_value +' Covid Fatality Ratio',color='black')\n",
    "plt.title(ckey_value + ' Covid Fatality Ratio Per Johns Hopkins')\n",
    "plt.plot(c)"
   ]
  },
  {
   "cell_type": "code",
   "execution_count": null,
   "metadata": {},
   "outputs": [],
   "source": []
  },
  {
   "cell_type": "code",
   "execution_count": null,
   "metadata": {},
   "outputs": [],
   "source": []
  },
  {
   "cell_type": "code",
   "execution_count": null,
   "metadata": {},
   "outputs": [],
   "source": []
  },
  {
   "cell_type": "code",
   "execution_count": null,
   "metadata": {},
   "outputs": [],
   "source": []
  },
  {
   "cell_type": "code",
   "execution_count": null,
   "metadata": {},
   "outputs": [],
   "source": []
  },
  {
   "cell_type": "code",
   "execution_count": null,
   "metadata": {},
   "outputs": [],
   "source": []
  },
  {
   "cell_type": "code",
   "execution_count": null,
   "metadata": {},
   "outputs": [],
   "source": []
  },
  {
   "cell_type": "code",
   "execution_count": null,
   "metadata": {},
   "outputs": [],
   "source": [
    "def create_df_by_combined_key_and_db_time_series_keys(passed_db, ckey_value, key_list):\n",
    "    current_temp_list = []\n",
    "    for x in key_list:\n",
    "        print(ckey_value, x)\n",
    "        print(pd.to_datetime(x))\n",
    "        print(passed_db[x][passed_db[x].Combined_Key == ckey_value].dt_date.values)\n",
    "        print(passed_db[x][passed_db[x].Combined_Key == ckey_value].Confirmed.values)\n",
    "        print(passed_db[x][passed_db[x].Combined_Key == ckey_value].Deaths.values)\n",
    "        print(passed_db[x][passed_db[x].Combined_Key == ckey_value].Case_Fatality_Ratio.values)\n",
    "        print(passed_db[x][passed_db[x].Combined_Key == ckey_value].Incident_Rate.values)\n",
    "        current_temp_list.append((pd.to_datetime(str(x)), df_jhu_total_dict[x][df_jhu_total_dict[x].Combined_Key == ckey_value].dt_date.values, int(df_jhu_total_dict[x][df_jhu_total_dict[x].Combined_Key == ckey_value].Confirmed.values), int(df_jhu_total_dict[x][df_jhu_total_dict[x].Combined_Key == ckey_value].Deaths.values),df_jhu_total_dict[x][df_jhu_total_dict[x].Combined_Key == ckey_value].Case_Fatality_Ratio.values,df_jhu_total_dict[x][df_jhu_total_dict[x].Combined_Key == ckey_value].Incident_Rate.values))\n",
    "    df_current_temp = pd.DataFrame.from_records(current_temp_list, columns = ['Date_dt', 'Date', 'Confirmed', 'Deaths', 'Fatality_Ratio','Incident_Rate'])\n",
    "    return(df_current_temp)"
   ]
  },
  {
   "cell_type": "code",
   "execution_count": null,
   "metadata": {},
   "outputs": [],
   "source": [
    "ckey_value = 'Bronx, New York, US'\n",
    "xxx = create_df_by_combined_key_and_db_time_series_keys(df_jhu_total_dict, ckey_value, part_key_list)"
   ]
  },
  {
   "cell_type": "code",
   "execution_count": null,
   "metadata": {},
   "outputs": [],
   "source": [
    "xxx2 = xxx[['Date_dt','Fatality_Ratio']]"
   ]
  },
  {
   "cell_type": "code",
   "execution_count": null,
   "metadata": {},
   "outputs": [],
   "source": [
    "c = df_current_temp2.set_index('Date_dt')"
   ]
  },
  {
   "cell_type": "code",
   "execution_count": 1,
   "metadata": {},
   "outputs": [
    {
     "ename": "NameError",
     "evalue": "name 'plt' is not defined",
     "output_type": "error",
     "traceback": [
      "\u001b[0;31m---------------------------------------------------------------------------\u001b[0m",
      "\u001b[0;31mNameError\u001b[0m                                 Traceback (most recent call last)",
      "\u001b[0;32m<ipython-input-1-ad7ea026668f>\u001b[0m in \u001b[0;36m<module>\u001b[0;34m\u001b[0m\n\u001b[1;32m      4\u001b[0m \u001b[0mdays\u001b[0m \u001b[0;34m=\u001b[0m \u001b[0mmdates\u001b[0m\u001b[0;34m.\u001b[0m\u001b[0mDayLocator\u001b[0m\u001b[0;34m(\u001b[0m\u001b[0;34m)\u001b[0m\u001b[0;34m\u001b[0m\u001b[0;34m\u001b[0m\u001b[0m\n\u001b[1;32m      5\u001b[0m \u001b[0mtimeFmt\u001b[0m \u001b[0;34m=\u001b[0m \u001b[0mmdates\u001b[0m\u001b[0;34m.\u001b[0m\u001b[0mDateFormatter\u001b[0m\u001b[0;34m(\u001b[0m\u001b[0;34m'%b %Y'\u001b[0m\u001b[0;34m)\u001b[0m\u001b[0;34m\u001b[0m\u001b[0;34m\u001b[0m\u001b[0m\n\u001b[0;32m----> 6\u001b[0;31m \u001b[0mfig\u001b[0m\u001b[0;34m,\u001b[0m \u001b[0max\u001b[0m \u001b[0;34m=\u001b[0m \u001b[0mplt\u001b[0m\u001b[0;34m.\u001b[0m\u001b[0msubplots\u001b[0m\u001b[0;34m(\u001b[0m\u001b[0;34m)\u001b[0m\u001b[0;34m\u001b[0m\u001b[0;34m\u001b[0m\u001b[0m\n\u001b[0m\u001b[1;32m      7\u001b[0m \u001b[0mfig\u001b[0m\u001b[0;34m.\u001b[0m\u001b[0mset_size_inches\u001b[0m\u001b[0;34m(\u001b[0m\u001b[0;36m15\u001b[0m\u001b[0;34m,\u001b[0m\u001b[0;36m8\u001b[0m\u001b[0;34m)\u001b[0m\u001b[0;34m\u001b[0m\u001b[0;34m\u001b[0m\u001b[0m\n\u001b[1;32m      8\u001b[0m \u001b[0max\u001b[0m\u001b[0;34m.\u001b[0m\u001b[0mxaxis\u001b[0m\u001b[0;34m.\u001b[0m\u001b[0mset_major_locator\u001b[0m\u001b[0;34m(\u001b[0m\u001b[0mmonths\u001b[0m\u001b[0;34m)\u001b[0m\u001b[0;34m\u001b[0m\u001b[0;34m\u001b[0m\u001b[0m\n",
      "\u001b[0;31mNameError\u001b[0m: name 'plt' is not defined"
     ]
    }
   ],
   "source": [
    "import datetime\n",
    "import matplotlib.dates as mdates\n",
    "months = mdates.MonthLocator()\n",
    "days = mdates.DayLocator()\n",
    "timeFmt = mdates.DateFormatter('%b %Y')\n",
    "fig, ax = plt.subplots()\n",
    "fig.set_size_inches(15,8)\n",
    "ax.xaxis.set_major_locator(months)\n",
    "ax.xaxis.set_major_formatter(timeFmt)\n",
    "ax.xaxis.set_minor_locator(days)\n",
    "plt.xlabel('Date',color='black')\n",
    "plt.ylabel(ckey_value +' Covid Fatality Ratio',color='black')\n",
    "plt.title(ckey_value + ' Covid Fatality Ratio Per Johns Hopkins')\n",
    "plt.plot(c)"
   ]
  },
  {
   "cell_type": "code",
   "execution_count": null,
   "metadata": {},
   "outputs": [],
   "source": []
  },
  {
   "cell_type": "code",
   "execution_count": null,
   "metadata": {},
   "outputs": [],
   "source": [
    "def chart_fatailty_ratio_by_combined_key_and_db_time_series_keys(passed_df, ckey_value):\n",
    "    import datetime\n",
    "    import matplotlib.dates as mdates\n",
    "    months = mdates.MonthLocator()\n",
    "    days = mdates.DayLocator()\n",
    "    timeFmt = mdates.DateFormatter('%b %Y')\n",
    "    fig, ax = plt.subplots()\n",
    "    fig.set_size_inches(15,8)\n",
    "    ax.xaxis.set_major_locator(months)\n",
    "    ax.xaxis.set_major_formatter(timeFmt)\n",
    "    ax.xaxis.set_minor_locator(days)\n",
    "    plt.xlabel('Date',color='black')\n",
    "    plt.ylabel(ckey_value +' Covid Fatality Ratio',color='black')\n",
    "    plt.title(ckey_value + ' Covid Fatality Ratio Per Johns Hopkins')\n",
    "    plt.plot(passed_df)"
   ]
  },
  {
   "cell_type": "code",
   "execution_count": null,
   "metadata": {},
   "outputs": [],
   "source": [
    "ckey_value = 'Queens, New York, US'\n",
    "xxx = create_df_by_combined_key_and_db_time_series_keys(df_jhu_total_dict, ckey_value, part_key_list)\n",
    "xxx2 = xxx[['Date_dt','Fatality_Ratio']]\n",
    "c = df_current_temp2.set_index('Date_dt')\n",
    "chart_fatailty_ratio_by_combined_key_and_db_time_series_keys(c,ckey_value)\n"
   ]
  },
  {
   "cell_type": "code",
   "execution_count": null,
   "metadata": {},
   "outputs": [],
   "source": [
    "def combined_fatality_ratio_by_combined_key_and_db_time_series_keys(passed_db, ckey_value, key_list):\n",
    "    xxx = create_df_by_combined_key_and_db_time_series_keys(passed_db, ckey_value, key_list)\n",
    "    xxx2 = xxx[['Date_dt','Fatality_Ratio']]\n",
    "    c = df_current_temp2.set_index('Date_dt')\n",
    "    chart_fatailty_ratio_by_combined_key_and_db_time_series_keys(c,ckey_value)\n",
    "\n",
    "    "
   ]
  },
  {
   "cell_type": "code",
   "execution_count": null,
   "metadata": {},
   "outputs": [],
   "source": [
    "ckey_value = 'Bronx, New York, US'\n",
    "passed_db = df_jhu_total_dict\n",
    "key_list = part_key_list\n",
    "combined_fatality_ratio_by_combined_key_and_db_time_series_keys(passed_db, ckey_value, key_list)"
   ]
  },
  {
   "cell_type": "code",
   "execution_count": null,
   "metadata": {},
   "outputs": [],
   "source": []
  },
  {
   "cell_type": "code",
   "execution_count": null,
   "metadata": {},
   "outputs": [],
   "source": [
    "def create_confirmed_df_by_combined_key_and_db_time_series_keys(passed_db, ckey_value, key_list):\n",
    "    xxx = create_df_by_combined_key_and_db_time_series_keys(passed_db, ckey_value, key_list)\n",
    "    xxx2 = xxx[['Date_dt','Confirmed']]\n",
    "    c = df_current_temp2.set_index('Date_dt')\n",
    "    chart_fatailty_ratio_by_combined_key_and_db_time_series_keys(c,ckey_value)"
   ]
  },
  {
   "cell_type": "code",
   "execution_count": null,
   "metadata": {},
   "outputs": [],
   "source": [
    "def chart_confirmed_by_combined_key_and_db_time_series_keys(passed_df, ckey_value):\n",
    "    import datetime\n",
    "    import matplotlib.dates as mdates\n",
    "    months = mdates.MonthLocator()\n",
    "    days = mdates.DayLocator()\n",
    "    timeFmt = mdates.DateFormatter('%b %Y')\n",
    "    fig, ax = plt.subplots()\n",
    "    fig.set_size_inches(15,8)\n",
    "    ax.xaxis.set_major_locator(months)\n",
    "    ax.xaxis.set_major_formatter(timeFmt)\n",
    "    ax.xaxis.set_minor_locator(days)\n",
    "    plt.xlabel('Date',color='black')\n",
    "    plt.ylabel(ckey_value +' Confirmed',color='black')\n",
    "    plt.title(ckey_value + ' Confirmed Per Johns Hopkins')\n",
    "    plt.plot(passed_df)"
   ]
  },
  {
   "cell_type": "code",
   "execution_count": null,
   "metadata": {},
   "outputs": [],
   "source": [
    "def combined_confirmed_by_combined_key_and_db_time_series_keys(passed_db, ckey_value, key_list):\n",
    "    xxx = create_df_by_combined_key_and_db_time_series_keys(passed_db, ckey_value, key_list)\n",
    "    xxx2 = xxx[['Date_dt','Confirmed']]\n",
    "    c = xxx2.set_index('Date_dt')\n",
    "    chart_confirmed_by_combined_key_and_db_time_series_keys(c,ckey_value)"
   ]
  },
  {
   "cell_type": "code",
   "execution_count": null,
   "metadata": {},
   "outputs": [],
   "source": [
    "ckey_value = 'Bronx, New York, US'\n",
    "passed_db = df_jhu_total_dict\n",
    "key_list = part_key_list\n",
    "combined_confirmed_by_combined_key_and_db_time_series_keys(passed_db, ckey_value, key_list)"
   ]
  },
  {
   "cell_type": "code",
   "execution_count": null,
   "metadata": {},
   "outputs": [],
   "source": []
  },
  {
   "cell_type": "code",
   "execution_count": null,
   "metadata": {},
   "outputs": [],
   "source": [
    "df_jhu_total_dict[yesterday.strftime('%m-%d-%Y')].info()"
   ]
  },
  {
   "cell_type": "code",
   "execution_count": null,
   "metadata": {},
   "outputs": [],
   "source": [
    "passed_db[yesterday.strftime('%m-%d-%Y')]['Incident_Rate'].max()"
   ]
  },
  {
   "cell_type": "code",
   "execution_count": null,
   "metadata": {},
   "outputs": [],
   "source": [
    "passed_db[yesterday.strftime('%m-%d-%Y')][passed_db[yesterday.strftime('%m-%d-%Y')]['Incident_Rate'] == passed_db[yesterday.strftime('%m-%d-%Y')]['Incident_Rate'].max()]"
   ]
  },
  {
   "cell_type": "code",
   "execution_count": null,
   "metadata": {},
   "outputs": [],
   "source": [
    "def combined_incident_rate_by_combined_key_and_db_time_series_keys(passed_db, ckey_value, key_list):\n",
    "    xxx = create_df_by_combined_key_and_db_time_series_keys(passed_db, ckey_value, key_list)\n",
    "    xxx2 = xxx[['Date_dt','Incident_Rate']]\n",
    "    c = xxx2.set_index('Date_dt')\n",
    "    chart_incident_rate_by_combined_key_and_db_time_series_keys(c,ckey_value)"
   ]
  },
  {
   "cell_type": "code",
   "execution_count": null,
   "metadata": {},
   "outputs": [],
   "source": [
    "def chart_incident_rate_by_combined_key_and_db_time_series_keys(passed_df, ckey_value):\n",
    "    import datetime\n",
    "    import matplotlib.dates as mdates\n",
    "    months = mdates.MonthLocator()\n",
    "    days = mdates.DayLocator()\n",
    "    timeFmt = mdates.DateFormatter('%b %Y')\n",
    "    fig, ax = plt.subplots()\n",
    "    fig.set_size_inches(15,8)\n",
    "    ax.xaxis.set_major_locator(months)\n",
    "    ax.xaxis.set_major_formatter(timeFmt)\n",
    "    ax.xaxis.set_minor_locator(days)\n",
    "    plt.xlabel('Date',color='black')\n",
    "    plt.ylabel(ckey_value +' Incident Rate',color='black')\n",
    "    plt.title(ckey_value + ' Confirmed Per Johns Hopkins')\n",
    "    plt.plot(passed_df)"
   ]
  },
  {
   "cell_type": "code",
   "execution_count": null,
   "metadata": {},
   "outputs": [],
   "source": []
  },
  {
   "cell_type": "code",
   "execution_count": null,
   "metadata": {},
   "outputs": [],
   "source": [
    "ckey_value = 'Bexar, Texas, US'\n",
    "passed_db = df_jhu_total_dict\n",
    "key_list = part_key_list\n",
    "combined_incident_rate_by_combined_key_and_db_time_series_keys(passed_db, ckey_value, key_list)"
   ]
  },
  {
   "cell_type": "code",
   "execution_count": null,
   "metadata": {},
   "outputs": [],
   "source": [
    "passed_db[yesterday.strftime('%m-%d-%Y')][passed_db[yesterday.strftime('%m-%d-%Y')]['Incident_Rate'] > 18000]"
   ]
  },
  {
   "cell_type": "code",
   "execution_count": null,
   "metadata": {},
   "outputs": [],
   "source": []
  },
  {
   "cell_type": "code",
   "execution_count": null,
   "metadata": {},
   "outputs": [],
   "source": []
  },
  {
   "cell_type": "code",
   "execution_count": null,
   "metadata": {},
   "outputs": [],
   "source": []
  },
  {
   "cell_type": "code",
   "execution_count": null,
   "metadata": {},
   "outputs": [],
   "source": []
  },
  {
   "cell_type": "code",
   "execution_count": null,
   "metadata": {},
   "outputs": [],
   "source": []
  },
  {
   "cell_type": "code",
   "execution_count": null,
   "metadata": {},
   "outputs": [],
   "source": [
    "def create_daily_new_cases_df_by_combined_key_and_db_time_series_keys(passed_db, ckey_value, key_list):\n",
    "    xxx = create_df_by_combined_key_and_db_time_series_keys(passed_db, ckey_value, key_list)\n",
    "    xxx2 = xxx.loc[:,['dt_date','Confirmed']]\n",
    "    ccc = xxx2.set_index('dt_date')\n",
    "    ddd = ccc.diff(periods = 1)\n",
    "    ddd_7day_moving = ddd.rolling(7).mean().shift()\n",
    "    return(ddd,ckey_value,ddd_7day_moving)"
   ]
  },
  {
   "cell_type": "code",
   "execution_count": null,
   "metadata": {},
   "outputs": [],
   "source": [
    "def create_daily_new_cases_df_by_combined_key_and_db_time_series_keys_2(passed_db, ckey_value, key_list):\n",
    "#    aaa = pd.DataFrame()\n",
    "#    print(aaa)\n",
    "    print(passed_db[d_value].loc[passed_db[d_value])\n",
    "    for d_value in date_list[1:]:\n",
    "        aaa = aaa.append(passed_db[d_value].loc[passed_db[d_value]['Combined_Key'] == ckey_value])\n",
    "    print(aaa)\n",
    "    bbb = aaa.loc[:,['dt_date','Confirmed']]\n",
    "    ccc = bbb.set_index('dt_date')\n",
    "    ddd = ccc.diff(periods = 1)\n",
    "    ddd_7day_moving = ddd.rolling(7).mean().shift()\n",
    "    return(ddd,passed_state,ddd_7day_moving)"
   ]
  },
  {
   "cell_type": "code",
   "execution_count": null,
   "metadata": {},
   "outputs": [],
   "source": [
    "def create_daily_new_cases_df_by_combined_key_and_db_time_series_keys_2(passed_db, ckey_value, key_list):\n",
    "#    aaa = pd.DataFrame()\n",
    "#    print(aaa)\n",
    "    print(passed_db[key_list[1]][passed_db][key_list[1]])\n"
   ]
  },
  {
   "cell_type": "code",
   "execution_count": null,
   "metadata": {},
   "outputs": [],
   "source": []
  },
  {
   "cell_type": "code",
   "execution_count": 3,
   "metadata": {},
   "outputs": [
    {
     "ename": "NameError",
     "evalue": "name 'plt' is not defined",
     "output_type": "error",
     "traceback": [
      "\u001b[0;31m---------------------------------------------------------------------------\u001b[0m",
      "\u001b[0;31mNameError\u001b[0m                                 Traceback (most recent call last)",
      "\u001b[0;32m<ipython-input-3-07410a080c92>\u001b[0m in \u001b[0;36m<module>\u001b[0;34m\u001b[0m\n\u001b[1;32m     15\u001b[0m     \u001b[0mplt\u001b[0m\u001b[0;34m.\u001b[0m\u001b[0mlegend\u001b[0m\u001b[0;34m(\u001b[0m\u001b[0;34m[\u001b[0m\u001b[0;34m'7 Day Rolling Average'\u001b[0m\u001b[0;34m,\u001b[0m\u001b[0;34m'Daily Active Cases'\u001b[0m\u001b[0;34m]\u001b[0m\u001b[0;34m)\u001b[0m\u001b[0;34m\u001b[0m\u001b[0;34m\u001b[0m\u001b[0m\n\u001b[1;32m     16\u001b[0m     \u001b[0mfig\u001b[0m\u001b[0;34m.\u001b[0m\u001b[0msavefig\u001b[0m\u001b[0;34m(\u001b[0m\u001b[0;34m'JHUDaily '\u001b[0m\u001b[0;34m+\u001b[0m \u001b[0mpassed_state_name\u001b[0m \u001b[0;34m+\u001b[0m \u001b[0;34m' New.png'\u001b[0m\u001b[0;34m)\u001b[0m\u001b[0;34m\u001b[0m\u001b[0;34m\u001b[0m\u001b[0m\n\u001b[0;32m---> 17\u001b[0;31m \u001b[0mplt\u001b[0m\u001b[0;34m.\u001b[0m\u001b[0mclose\u001b[0m\u001b[0;34m(\u001b[0m\u001b[0;34m)\u001b[0m\u001b[0;34m\u001b[0m\u001b[0;34m\u001b[0m\u001b[0m\n\u001b[0m",
      "\u001b[0;31mNameError\u001b[0m: name 'plt' is not defined"
     ]
    }
   ],
   "source": [
    "def chart_daily_confirmed(passed_df, passed_state_name, ddd_7day_moving):\n",
    "    months = mdates.MonthLocator()\n",
    "    days = mdates.DayLocator()\n",
    "    timeFmt = mdates.DateFormatter('%b %Y')\n",
    "    fig, ax = plt.subplots()\n",
    "    fig.set_size_inches(18,10)\n",
    "    ax.xaxis.set_major_locator(months)\n",
    "    ax.xaxis.set_major_formatter(timeFmt)\n",
    "#ax.xaxis.set_minor_locator(months)\n",
    "    plt.title('Johns Hopkins University ***' + passed_state_name + '*** Daily COVID Cases')\n",
    "    plt.xlabel('Date',color='black')\n",
    "    plt.ylabel('New COVID Cases',color='black')\n",
    "    plt.bar(passed_df.index,passed_df.Confirmed)\n",
    "    plt.plot(ddd_7day_moving,'ro-')\n",
    "    plt.legend(['7 Day Rolling Average','Daily Active Cases'])\n",
    "    fig.savefig('JHUDaily '+ passed_state_name + ' New.png')\n",
    "plt.close()"
   ]
  },
  {
   "cell_type": "code",
   "execution_count": null,
   "metadata": {},
   "outputs": [],
   "source": [
    "ckey_value = 'Queens, New York, US'\n",
    "passed_db = df_jhu_total_dict\n",
    "key_list = part_key_list\n",
    "zzz = create_daily_new_cases_df_by_combined_key_and_db_time_series_keys(passed_db, ckey_value, key_list)"
   ]
  },
  {
   "cell_type": "code",
   "execution_count": null,
   "metadata": {},
   "outputs": [],
   "source": [
    "zzz[2]"
   ]
  },
  {
   "cell_type": "code",
   "execution_count": null,
   "metadata": {},
   "outputs": [],
   "source": [
    "chart_daily_confirmed(zzz[0], zzz[1], zzz[2])"
   ]
  },
  {
   "cell_type": "code",
   "execution_count": null,
   "metadata": {},
   "outputs": [],
   "source": []
  },
  {
   "cell_type": "code",
   "execution_count": null,
   "metadata": {},
   "outputs": [],
   "source": []
  },
  {
   "cell_type": "code",
   "execution_count": null,
   "metadata": {},
   "outputs": [],
   "source": []
  },
  {
   "cell_type": "code",
   "execution_count": null,
   "metadata": {},
   "outputs": [],
   "source": []
  },
  {
   "cell_type": "code",
   "execution_count": null,
   "metadata": {},
   "outputs": [],
   "source": [
    "type(xxx)"
   ]
  },
  {
   "cell_type": "code",
   "execution_count": null,
   "metadata": {},
   "outputs": [],
   "source": [
    "xxx"
   ]
  },
  {
   "cell_type": "code",
   "execution_count": null,
   "metadata": {},
   "outputs": [],
   "source": [
    "zzz.loc[key_list[1]]\n"
   ]
  },
  {
   "cell_type": "markdown",
   "metadata": {},
   "source": [
    "************create clean function to get all confirmed cases not limited to existance of Case_Fatality_Rate existing*******"
   ]
  },
  {
   "cell_type": "code",
   "execution_count": null,
   "metadata": {},
   "outputs": [],
   "source": []
  },
  {
   "cell_type": "code",
   "execution_count": null,
   "metadata": {},
   "outputs": [],
   "source": []
  },
  {
   "cell_type": "code",
   "execution_count": null,
   "metadata": {},
   "outputs": [],
   "source": []
  },
  {
   "cell_type": "code",
   "execution_count": null,
   "metadata": {},
   "outputs": [],
   "source": []
  },
  {
   "cell_type": "code",
   "execution_count": null,
   "metadata": {},
   "outputs": [],
   "source": []
  },
  {
   "cell_type": "code",
   "execution_count": null,
   "metadata": {},
   "outputs": [],
   "source": []
  },
  {
   "cell_type": "code",
   "execution_count": null,
   "metadata": {},
   "outputs": [],
   "source": []
  },
  {
   "cell_type": "code",
   "execution_count": null,
   "metadata": {},
   "outputs": [],
   "source": []
  },
  {
   "cell_type": "code",
   "execution_count": null,
   "metadata": {},
   "outputs": [],
   "source": [
    "df_current_temp = pd.DataFrame()\n",
    "series_temp = pd.Series()\n",
    "current_temp_list = []\n",
    "for ckey_value in ['New York, New York, US']:\n",
    "    for x in part_key_list:\n",
    "        print(ckey_value, x)\n",
    "        print(pd.to_datetime(x))\n",
    "        print(df_jhu_total_dict[x][df_jhu_total_dict[x].Combined_Key == ckey_value].dt_date.values)\n",
    "        print(df_jhu_total_dict[x][df_jhu_total_dict[x].Combined_Key == ckey_value].Confirmed.values)\n",
    "        print(df_jhu_total_dict[x][df_jhu_total_dict[x].Combined_Key == ckey_value].Deaths.values)\n",
    "        print(df_jhu_total_dict[x][df_jhu_total_dict[x].Combined_Key == ckey_value].Case_Fatality_Ratio.values)\n",
    "        series_temp = pd.Series((df_jhu_total_dict[x][df_jhu_total_dict[x].Combined_Key == ckey_value].dt_date.values, df_jhu_total_dict[x][df_jhu_total_dict[x].Combined_Key == ckey_value].Confirmed.values, df_jhu_total_dict[x][df_jhu_total_dict[x].Combined_Key == ckey_value].Case_Fatality_Ratio.values, df_jhu_total_dict[x][df_jhu_total_dict[x].Combined_Key == ckey_value].Deaths.values), index = ['Date','Confirmed', 'Fatality_Ratio','Deaths'])\n",
    "        df_current_temp = df_current_temp.append(series_temp, ignore_index = True)\n",
    "    print(ckey_value)\n",
    "    df_current_temp.Fatality_Ratio = df_current_temp.Fatality_Ratio.astype(float)\n",
    "    print(df_current_temp.Fatality_Ratio.max())\n",
    "    print(df_current_temp[df_current_temp['Fatality_Ratio'] == df_current_temp.Fatality_Ratio.max()])\n",
    "    print(df_current_temp.Fatality_Ratio.min())\n",
    "    print(df_current_temp[df_current_temp['Fatality_Ratio'] == df_current_temp.Fatality_Ratio.min()])\n",
    "    months = mdates.MonthLocator()\n",
    "    days = mdates.DayLocator()\n",
    "    timeFmt = mdates.DateFormatter('%b %Y')\n",
    "    fig, ax = plt.subplots()\n",
    "    fig.set_size_inches(15,8)\n",
    "    ax.xaxis.set_major_locator(months)\n",
    "    ax.xaxis.set_major_formatter(timeFmt)\n",
    "    ax.xaxis.set_minor_locator(days)\n",
    "    plt.xlabel('Date',color='black')\n",
    "    plt.ylabel(ckey_value +' Covid Fatality Ratio',color='black')\n",
    "    plt.title(ckey_value + ' Covid Fatality Ratio Per Johns Hopkins')\n"
   ]
  },
  {
   "cell_type": "code",
   "execution_count": null,
   "metadata": {},
   "outputs": [],
   "source": [
    "df_current_temp = pd.DataFrame.from_records(current_temp_list, columns = ['Date_dt', 'Date', 'Confirmed', 'Deaths', 'Fatality_Ratio'])"
   ]
  },
  {
   "cell_type": "code",
   "execution_count": null,
   "metadata": {},
   "outputs": [],
   "source": []
  },
  {
   "cell_type": "code",
   "execution_count": null,
   "metadata": {},
   "outputs": [],
   "source": []
  },
  {
   "cell_type": "code",
   "execution_count": null,
   "metadata": {},
   "outputs": [],
   "source": []
  },
  {
   "cell_type": "code",
   "execution_count": null,
   "metadata": {},
   "outputs": [],
   "source": []
  },
  {
   "cell_type": "code",
   "execution_count": null,
   "metadata": {},
   "outputs": [],
   "source": []
  },
  {
   "cell_type": "code",
   "execution_count": null,
   "metadata": {},
   "outputs": [],
   "source": []
  },
  {
   "cell_type": "code",
   "execution_count": null,
   "metadata": {},
   "outputs": [],
   "source": []
  },
  {
   "cell_type": "code",
   "execution_count": null,
   "metadata": {},
   "outputs": [],
   "source": [
    "df_jhu_total_dict[list(df_jhu_total_dict.keys())[-1]][df_jhu_total_dict[list(df_jhu_total_dict.keys())[-1]].Combined_Key =='Sterling, Texas, US'].loc[:,['Combined_Key','dt_date','Confirmed','Deaths','Incident_Rate','Case_Fatality_Ratio']]\n"
   ]
  },
  {
   "cell_type": "code",
   "execution_count": null,
   "metadata": {},
   "outputs": [],
   "source": [
    "for x in range(-10,0,1):\n",
    "   print(df_jhu_total_dict[list(df_jhu_total_dict.keys())[x]][df_jhu_total_dict[list(df_jhu_total_dict.keys())[x]].Combined_Key =='Sterling, Texas, US'].loc[:,['Combined_Key','dt_date','Confirmed','Deaths','Incident_Rate','Case_Fatality_Ratio']])\n"
   ]
  },
  {
   "cell_type": "code",
   "execution_count": null,
   "metadata": {},
   "outputs": [],
   "source": [
    "for x in range(-10,0,1):\n",
    "   print(df_jhu_total_dict[list(df_jhu_total_dict.keys())[x]][df_jhu_total_dict[list(df_jhu_total_dict.keys())[x]].Combined_Key =='Bexar, Texas, US'].loc[:,['Combined_Key','dt_date','Confirmed','Deaths','Incident_Rate','Case_Fatality_Ratio']])\n"
   ]
  },
  {
   "cell_type": "code",
   "execution_count": null,
   "metadata": {},
   "outputs": [],
   "source": [
    "for x in range(-10,0,1):\n",
    "   print(df_jhu_total_dict[list(df_jhu_total_dict.keys())[x]][df_jhu_total_dict[list(df_jhu_total_dict.keys())[x]].Combined_Key =='New York, New York, US'].loc[:,['Combined_Key','dt_date','Confirmed','Deaths','Incident_Rate','Case_Fatality_Ratio']])\n"
   ]
  },
  {
   "cell_type": "code",
   "execution_count": null,
   "metadata": {},
   "outputs": [],
   "source": [
    "df_jhu_total_dict[yesterday.strftime('%m-%d-%Y')][df_jhu_total_dict[yesterday.strftime('%m-%d-%Y')].Combined_Key.str.contains('New York, US')]\n"
   ]
  },
  {
   "cell_type": "code",
   "execution_count": null,
   "metadata": {},
   "outputs": [],
   "source": []
  },
  {
   "cell_type": "code",
   "execution_count": null,
   "metadata": {},
   "outputs": [],
   "source": []
  },
  {
   "cell_type": "code",
   "execution_count": null,
   "metadata": {},
   "outputs": [],
   "source": []
  },
  {
   "cell_type": "code",
   "execution_count": null,
   "metadata": {},
   "outputs": [],
   "source": []
  },
  {
   "cell_type": "code",
   "execution_count": null,
   "metadata": {},
   "outputs": [],
   "source": []
  },
  {
   "cell_type": "code",
   "execution_count": null,
   "metadata": {},
   "outputs": [],
   "source": []
  },
  {
   "cell_type": "code",
   "execution_count": null,
   "metadata": {},
   "outputs": [],
   "source": []
  },
  {
   "cell_type": "code",
   "execution_count": null,
   "metadata": {},
   "outputs": [],
   "source": []
  },
  {
   "cell_type": "markdown",
   "metadata": {},
   "source": [
    "https://data.ers.usda.gov/reports.aspx?ID=17827"
   ]
  },
  {
   "cell_type": "code",
   "execution_count": null,
   "metadata": {},
   "outputs": [],
   "source": [
    "! cp /mnt/c/Users/ldhag/OneDrive/Documents/TexasCountiesPopulation.xlsx ."
   ]
  },
  {
   "cell_type": "code",
   "execution_count": null,
   "metadata": {},
   "outputs": [],
   "source": [
    "df_Texas_County_Population = pd.read_excel(\"./TexasCountiesPopulation.xlsx\",header=0, engine=\"openpyxl\")"
   ]
  },
  {
   "cell_type": "code",
   "execution_count": null,
   "metadata": {},
   "outputs": [],
   "source": [
    "df_Texas_County_Population.head()\n"
   ]
  },
  {
   "cell_type": "code",
   "execution_count": null,
   "metadata": {},
   "outputs": [],
   "source": [
    "df_Texas_County_Population.info()"
   ]
  },
  {
   "cell_type": "code",
   "execution_count": null,
   "metadata": {},
   "outputs": [],
   "source": [
    "df_Texas_County_Population[df_Texas_County_Population['County name'].values == 'Bexar']['Pop. 2020'].values"
   ]
  },
  {
   "cell_type": "code",
   "execution_count": null,
   "metadata": {},
   "outputs": [],
   "source": [
    "state_list = []\n",
    "for z in Combined_Key_list:\n",
    "    if 'Texas' in z:\n",
    "        print(z)\n",
    "        state_list.append(z)\n",
    "        \n",
    "for ckey_value in state_list:\n",
    "    df_current_temp = pd.DataFrame()\n",
    "    series_temp = pd.Series()\n",
    "    current_temp_list = []\n",
    "    for x in part_key_list:\n",
    "        series_temp = pd.Series((df_jhu_us_dict[x][df_jhu_us_dict[x].Combined_Key == ckey_value].dt_date.values, df_jhu_us_dict[x][df_jhu_us_dict[x].Combined_Key == ckey_value].Confirmed.values, df_jhu_us_dict[x][df_jhu_us_dict[x].Combined_Key == ckey_value].Case_Fatality_Ratio.values, df_jhu_us_dict[x][df_jhu_us_dict[x].Combined_Key == ckey_value].Deaths.values), index = ['Date','Confirmed', 'Fatality_Ratio','Deaths'])\n",
    "        df_current_temp = df_current_temp.append(series_temp, ignore_index = True)\n",
    "    print(ckey_value)\n",
    "    df_current_temp.Fatality_Ratio = df_current_temp.Fatality_Ratio.astype(float)\n",
    "    print(df_current_temp.Fatality_Ratio.max())\n",
    "    print(df_current_temp[df_current_temp['Fatality_Ratio'] == df_current_temp.Fatality_Ratio.max()])\n",
    "    print(df_current_temp.Fatality_Ratio.min())\n",
    "    print(df_current_temp[df_current_temp['Fatality_Ratio'] == df_current_temp.Fatality_Ratio.min()])\n",
    "    print(df_current_temp.tail(1))\n",
    "    \n",
    "    print('Confirmed -- ', int(df_current_temp.tail(1).Confirmed.values))\n",
    "    print(ckey_value.split(',')[0], int(df_Texas_County_Population[df_Texas_County_Population['County name'].values == ckey_value.split(',')[0]]['Pop. 2020'].values))\n",
    "    print('Confirmed divided by population', int(df_current_temp.tail(1).Confirmed.values)/int(df_Texas_County_Population[df_Texas_County_Population['County name'].values == ckey_value.split(',')[0]]['Pop. 2020'].values))\n",
    "    print()\n",
    "    print('Deaths -- ', int(df_current_temp.tail(1).Deaths.values))\n",
    "    print(ckey_value.split(',')[0], int(df_Texas_County_Population[df_Texas_County_Population['County name'].values == ckey_value.split(',')[0]]['Pop. 2020'].values))\n",
    "    print('Dead divided by population', int(df_current_temp.tail(1).Deaths.values)/int(df_Texas_County_Population[df_Texas_County_Population['County name'].values == ckey_value.split(',')[0]]['Pop. 2020'].values))\n",
    "    print()\n",
    "    print('     -------'     )\n",
    "    print()\n"
   ]
  },
  {
   "cell_type": "code",
   "execution_count": null,
   "metadata": {},
   "outputs": [],
   "source": [
    "state_list = []\n",
    "for z in Combined_Key_list:\n",
    "    if 'New York' in z:\n",
    "        print(z)\n",
    "        state_list.append(z)\n",
    "        \n",
    "for ckey_value in state_list:\n",
    "    df_current_temp = pd.DataFrame()\n",
    "    series_temp = pd.Series()\n",
    "    current_temp_list = []\n",
    "    for x in part_key_list:\n",
    "        series_temp = pd.Series((df_jhu_us_dict[x][df_jhu_us_dict[x].Combined_Key == ckey_value].dt_date.values, df_jhu_us_dict[x][df_jhu_us_dict[x].Combined_Key == ckey_value].Confirmed.values, df_jhu_us_dict[x][df_jhu_us_dict[x].Combined_Key == ckey_value].Case_Fatality_Ratio.values, df_jhu_us_dict[x][df_jhu_us_dict[x].Combined_Key == ckey_value].Deaths.values), index = ['Date','Confirmed', 'Fatality_Ratio','Deaths'])\n",
    "        df_current_temp = df_current_temp.append(series_temp, ignore_index = True)\n",
    "    print(ckey_value)\n",
    "    df_current_temp.Fatality_Ratio = df_current_temp.Fatality_Ratio.astype(float)\n",
    "    print(df_current_temp.Fatality_Ratio.max())\n",
    "    print(df_current_temp[df_current_temp['Fatality_Ratio'] == df_current_temp.Fatality_Ratio.max()])\n",
    "    print(df_current_temp.Fatality_Ratio.min())\n",
    "    print(df_current_temp[df_current_temp['Fatality_Ratio'] == df_current_temp.Fatality_Ratio.min()])\n",
    "    print(df_current_temp.tail(1))\n",
    "    \n",
    "    print('Confirmed -- ', int(df_current_temp.tail(1).Confirmed.values))\n",
    "    print(ckey_value.split(',')[0], int(df_Texas_County_Population[df_Texas_County_Population['County name'].values == ckey_value.split(',')[0]]['Pop. 2020'].values))\n",
    "    print('Confirmed divided by population', int(df_current_temp.tail(1).Confirmed.values)/int(df_Texas_County_Population[df_Texas_County_Population['County name'].values == ckey_value.split(',')[0]]['Pop. 2020'].values))\n",
    "    print()\n",
    "    print('Deaths -- ', int(df_current_temp.tail(1).Deaths.values))\n",
    "    print(ckey_value.split(',')[0], int(df_Texas_County_Population[df_Texas_County_Population['County name'].values == ckey_value.split(',')[0]]['Pop. 2020'].values))\n",
    "    print('Dead divided by population', int(df_current_temp.tail(1).Deaths.values)/int(df_Texas_County_Population[df_Texas_County_Population['County name'].values == ckey_value.split(',')[0]]['Pop. 2020'].values))\n",
    "    print()\n",
    "    print('     -------'     )\n",
    "    print()"
   ]
  },
  {
   "cell_type": "code",
   "execution_count": null,
   "metadata": {},
   "outputs": [],
   "source": [
    "! cp /mnt/c/Users/ldhag/OneDrive/Documents/IllinoisCountiesPopulation.xlsx ."
   ]
  },
  {
   "cell_type": "code",
   "execution_count": null,
   "metadata": {},
   "outputs": [],
   "source": [
    "df_Illinois_County_Population = pd.read_excel(\"./IllinoisCountiesPopulation.xlsx\",header=2, engine=\"openpyxl\")"
   ]
  },
  {
   "cell_type": "code",
   "execution_count": null,
   "metadata": {},
   "outputs": [],
   "source": [
    "df_Illinois_County_Population.head()"
   ]
  },
  {
   "cell_type": "code",
   "execution_count": null,
   "metadata": {},
   "outputs": [],
   "source": [
    "state_list = []\n",
    "for z in Combined_Key_list:\n",
    "    if 'Illinois' in z:\n",
    "        print(z)\n",
    "        state_list.append(z)\n",
    "        \n",
    "for ckey_value in state_list:\n",
    "    df_current_temp = pd.DataFrame()\n",
    "    series_temp = pd.Series()\n",
    "    current_temp_list = []\n",
    "    for x in part_key_list:\n",
    "        series_temp = pd.Series((df_jhu_us_dict[x][df_jhu_us_dict[x].Combined_Key == ckey_value].dt_date.values, df_jhu_us_dict[x][df_jhu_us_dict[x].Combined_Key == ckey_value].Confirmed.values, df_jhu_us_dict[x][df_jhu_us_dict[x].Combined_Key == ckey_value].Case_Fatality_Ratio.values, df_jhu_us_dict[x][df_jhu_us_dict[x].Combined_Key == ckey_value].Deaths.values), index = ['Date','Confirmed', 'Fatality_Ratio','Deaths'])\n",
    "        df_current_temp = df_current_temp.append(series_temp, ignore_index = True)\n",
    "    print(ckey_value)\n",
    "    df_current_temp.Fatality_Ratio = df_current_temp.Fatality_Ratio.astype(float)\n",
    "    print(df_current_temp.Fatality_Ratio.max())\n",
    "    print(df_current_temp[df_current_temp['Fatality_Ratio'] == df_current_temp.Fatality_Ratio.max()])\n",
    "    print(df_current_temp.Fatality_Ratio.min())\n",
    "    print(df_current_temp[df_current_temp['Fatality_Ratio'] == df_current_temp.Fatality_Ratio.min()])\n",
    "    print(df_current_temp.tail(1))\n",
    "    \n",
    "    print('Confirmed -- ', int(df_current_temp.tail(1).Confirmed.values))\n",
    "    print(ckey_value.split(',')[0], int(df_Illinois_County_Population[df_Illinois_County_Population['County name'].values == ckey_value.split(',')[0]]['Pop. 2020'].values))\n",
    "    print('Confirmed divided by population', int(df_current_temp.tail(1).Confirmed.values)/int(df_Illinois_County_Population[df_Illinois_County_Population['County name'].values == ckey_value.split(',')[0]]['Pop. 2020'].values))\n",
    "    print()\n",
    "    print('Deaths -- ', int(df_current_temp.tail(1).Deaths.values))\n",
    "    print(ckey_value.split(',')[0], int(df_Illinois_County_Population[df_Illinois_County_Population['County name'].values == ckey_value.split(',')[0]]['Pop. 2020'].values))\n",
    "    print('Dead divided by population', int(df_current_temp.tail(1).Deaths.values)/int(df_Illinois_County_Population[df_Illinois_County_Population['County name'].values == ckey_value.split(',')[0]]['Pop. 2020'].values))\n",
    "    print()\n",
    "    print('     -------'     )\n",
    "    print()"
   ]
  },
  {
   "cell_type": "code",
   "execution_count": null,
   "metadata": {},
   "outputs": [],
   "source": []
  },
  {
   "cell_type": "code",
   "execution_count": null,
   "metadata": {},
   "outputs": [],
   "source": []
  },
  {
   "cell_type": "code",
   "execution_count": null,
   "metadata": {},
   "outputs": [],
   "source": [
    "https://www2.census.gov/programs-surveys/popest/tables/2010-2019/counties/totals/co-est2019-annres.xlsx"
   ]
  },
  {
   "cell_type": "code",
   "execution_count": null,
   "metadata": {},
   "outputs": [],
   "source": [
    "df_Census_US_Counties = pd.read_excel('https://www2.census.gov/programs-surveys/popest/tables/2010-2019/counties/totals/co-est2019-annres.xlsx', header = 3)"
   ]
  },
  {
   "cell_type": "code",
   "execution_count": null,
   "metadata": {},
   "outputs": [],
   "source": [
    "df_Census_US_Counties.head()"
   ]
  },
  {
   "cell_type": "code",
   "execution_count": null,
   "metadata": {},
   "outputs": [],
   "source": []
  },
  {
   "cell_type": "code",
   "execution_count": null,
   "metadata": {},
   "outputs": [],
   "source": [
    "df_Census_US_Counties.rename(columns={\"Unnamed: 0\":'Combined_Area'}, inplace=True)"
   ]
  },
  {
   "cell_type": "code",
   "execution_count": null,
   "metadata": {},
   "outputs": [],
   "source": [
    "df_Census_US_Counties.head()"
   ]
  },
  {
   "cell_type": "code",
   "execution_count": null,
   "metadata": {},
   "outputs": [],
   "source": []
  },
  {
   "cell_type": "code",
   "execution_count": null,
   "metadata": {},
   "outputs": [],
   "source": [
    "df_Census_US_Counties[df_Census_US_Counties['Combined_Area'].values == '.Bexar County, Texas']"
   ]
  },
  {
   "cell_type": "code",
   "execution_count": null,
   "metadata": {},
   "outputs": [],
   "source": []
  },
  {
   "cell_type": "code",
   "execution_count": null,
   "metadata": {},
   "outputs": [],
   "source": []
  },
  {
   "cell_type": "code",
   "execution_count": null,
   "metadata": {},
   "outputs": [],
   "source": []
  },
  {
   "cell_type": "code",
   "execution_count": null,
   "metadata": {},
   "outputs": [],
   "source": []
  },
  {
   "cell_type": "code",
   "execution_count": null,
   "metadata": {},
   "outputs": [],
   "source": []
  },
  {
   "cell_type": "code",
   "execution_count": null,
   "metadata": {},
   "outputs": [],
   "source": [
    "df_Census_US_Counties['Combined_Area'].values[2:-6][3]"
   ]
  },
  {
   "cell_type": "code",
   "execution_count": null,
   "metadata": {},
   "outputs": [],
   "source": [
    "state_var = ' Texas'\n",
    "temp_state_list = []\n",
    "for x in df_Census_US_Counties['Combined_Area'].values[2:-6]:\n",
    "    if x.split(',')[1] == state_var:\n",
    "        temp_state_list.append(x.split(',')[0][1:])\n",
    "        print(x.split(',')[1])"
   ]
  },
  {
   "cell_type": "code",
   "execution_count": null,
   "metadata": {},
   "outputs": [],
   "source": []
  },
  {
   "cell_type": "code",
   "execution_count": null,
   "metadata": {},
   "outputs": [],
   "source": []
  },
  {
   "cell_type": "code",
   "execution_count": null,
   "metadata": {},
   "outputs": [],
   "source": []
  },
  {
   "cell_type": "code",
   "execution_count": null,
   "metadata": {},
   "outputs": [],
   "source": [
    "temp_state_list"
   ]
  },
  {
   "cell_type": "code",
   "execution_count": null,
   "metadata": {},
   "outputs": [],
   "source": [
    "state_var = ' Louisiana'\n",
    "temp_state_list = []\n",
    "for x in df_Census_US_Counties['Combined_Area'].values[2:-6]:\n",
    "    if x.split(',')[1] == state_var:\n",
    "        temp_state_list.append(x.split(',')[0][1:])\n",
    "        print(x.split(',')[1])\n",
    "print(temp_state_list)"
   ]
  },
  {
   "cell_type": "code",
   "execution_count": null,
   "metadata": {},
   "outputs": [],
   "source": [
    "state_var = ' Louisiana'\n",
    "temp_state_list = []\n",
    "for x in df_Census_US_Counties['Combined_Area'].values[2:-6]:\n",
    "    if x.split(',')[1] == state_var:\n",
    "        temp_state_list.append(x.split(',')[0][1:].split(' ')[:-1])\n",
    "        print(x.split(',')[1])\n",
    "print(temp_state_list)"
   ]
  },
  {
   "cell_type": "code",
   "execution_count": null,
   "metadata": {},
   "outputs": [],
   "source": [
    "state_var = ' Louisiana'\n",
    "temp_state_list = []\n",
    "for x in df_Census_US_Counties['Combined_Area'].values[2:-6]:\n",
    "    if x.split(',')[1] == state_var:\n",
    "        temp_state_list.append(x.split(',')[0][1:].split(' ')[:-1])\n",
    "        print(x.split(',')[1])\n",
    "print(temp_state_list)"
   ]
  },
  {
   "cell_type": "code",
   "execution_count": null,
   "metadata": {},
   "outputs": [],
   "source": [
    "type(temp_state_list[-2])"
   ]
  },
  {
   "cell_type": "code",
   "execution_count": null,
   "metadata": {},
   "outputs": [],
   "source": [
    "' '.join(temp_state_list[-2])"
   ]
  },
  {
   "cell_type": "code",
   "execution_count": null,
   "metadata": {},
   "outputs": [],
   "source": [
    "state_var = ' Illinois'\n",
    "temp_state_list = []\n",
    "temp_state_dict ={}\n",
    "for x in df_Census_US_Counties['Combined_Area'].values[2:-6]:\n",
    "    if x.split(',')[1] == state_var:\n",
    "        temp_state_dict[x[1:]] = (' '.join(x.split(',')[0][1:].split(' ')[:-1]),  df_Census_US_Counties[df_Census_US_Counties['Combined_Area'] == x].Census)\n",
    "        temp_state_list.append(' '.join(x.split(',')[0][1:].split(' ')[:-1]))\n",
    "        print(x.split(',')[1])\n",
    "        print(x, df_Census_US_Counties[df_Census_US_Counties['Combined_Area'] == x].Census)\n",
    "print(temp_state_list)"
   ]
  },
  {
   "cell_type": "code",
   "execution_count": null,
   "metadata": {},
   "outputs": [],
   "source": [
    "temp_state_dict"
   ]
  },
  {
   "cell_type": "code",
   "execution_count": null,
   "metadata": {},
   "outputs": [],
   "source": []
  },
  {
   "cell_type": "code",
   "execution_count": null,
   "metadata": {},
   "outputs": [],
   "source": []
  },
  {
   "cell_type": "code",
   "execution_count": null,
   "metadata": {},
   "outputs": [],
   "source": []
  },
  {
   "cell_type": "code",
   "execution_count": null,
   "metadata": {},
   "outputs": [],
   "source": [
    "state_list = []\n",
    "for z in Combined_Key_list:\n",
    "    if 'Texas' in z:\n",
    "        print(z)\n",
    "        state_list.append(z)\n",
    "        \n",
    "for ckey_value in state_list:\n",
    "    df_current_temp = pd.DataFrame()\n",
    "    series_temp = pd.Series()\n",
    "    current_temp_list = []\n",
    "    for x in part_key_list:\n",
    "        series_temp = pd.Series((df_jhu_us_dict[x][df_jhu_us_dict[x].Combined_Key == ckey_value].dt_date.values, df_jhu_us_dict[x][df_jhu_us_dict[x].Combined_Key == ckey_value].Confirmed.values, df_jhu_us_dict[x][df_jhu_us_dict[x].Combined_Key == ckey_value].Case_Fatality_Ratio.values, df_jhu_us_dict[x][df_jhu_us_dict[x].Combined_Key == ckey_value].Deaths.values), index = ['Date','Confirmed', 'Fatality_Ratio','Deaths'])\n",
    "        df_current_temp = df_current_temp.append(series_temp, ignore_index = True)\n",
    "    print(ckey_value)\n",
    "    df_current_temp.Fatality_Ratio = df_current_temp.Fatality_Ratio.astype(float)\n",
    "    print(df_current_temp.Fatality_Ratio.max())\n",
    "    print(df_current_temp[df_current_temp['Fatality_Ratio'] == df_current_temp.Fatality_Ratio.max()])\n",
    "    print(df_current_temp.Fatality_Ratio.min())\n",
    "    print(df_current_temp[df_current_temp['Fatality_Ratio'] == df_current_temp.Fatality_Ratio.min()])\n",
    "    print(df_current_temp.tail(1))\n",
    "    \n",
    "    print('Confirmed -- ', int(df_current_temp.tail(1).Confirmed.values))\n",
    "    print(ckey_value.split(',')[0], int(df_Texas_County_Population[df_Texas_County_Population['County name'].values == ckey_value.split(',')[0]]['Pop. 2020'].values))\n",
    "    print('Confirmed divided by population', int(df_current_temp.tail(1).Confirmed.values)/int(df_Texas_County_Population[df_Texas_County_Population['County name'].values == ckey_value.split(',')[0]]['Pop. 2020'].values))\n",
    "    print()\n",
    "    print('Deaths -- ', int(df_current_temp.tail(1).Deaths.values))\n",
    "    print(ckey_value.split(',')[0], int(df_Texas_County_Population[df_Texas_County_Population['County name'].values == ckey_value.split(',')[0]]['Pop. 2020'].values))\n",
    "    print('Dead divided by population', int(df_current_temp.tail(1).Deaths.values)/int(df_Texas_County_Population[df_Texas_County_Population['County name'].values == ckey_value.split(',')[0]]['Pop. 2020'].values))\n",
    "    print()\n",
    "    print('     -------'     )\n",
    "    print()\n"
   ]
  },
  {
   "cell_type": "code",
   "execution_count": null,
   "metadata": {},
   "outputs": [],
   "source": []
  }
 ],
 "metadata": {
  "kernelspec": {
   "display_name": "Python 3",
   "language": "python",
   "name": "python3"
  },
  "language_info": {
   "codemirror_mode": {
    "name": "ipython",
    "version": 3
   },
   "file_extension": ".py",
   "mimetype": "text/x-python",
   "name": "python",
   "nbconvert_exporter": "python",
   "pygments_lexer": "ipython3",
   "version": "3.8.10"
  }
 },
 "nbformat": 4,
 "nbformat_minor": 4
}
