{
 "cells": [
  {
   "cell_type": "markdown",
   "metadata": {},
   "source": [
    "Now requires JHU_Each_State_Capture_and_Serialize_JHU_Latest_Data to be run first. Once ran a serialized version of the latest JHU data will be available locally thus avoiding multiple data fetches for the various related routines"
   ]
  },
  {
   "cell_type": "code",
   "execution_count": null,
   "metadata": {},
   "outputs": [],
   "source": [
    "import pandas as pd\n",
    "import matplotlib.pyplot as plt\n",
    "import numpy as np\n",
    "import datetime\n",
    "from datetime import date, timedelta\n",
    "import datetime\n",
    "import matplotlib.dates as mdates\n",
    "%matplotlib inline"
   ]
  },
  {
   "cell_type": "markdown",
   "metadata": {},
   "source": [
    "Update end date below to the previous day's date"
   ]
  },
  {
   "cell_type": "code",
   "execution_count": null,
   "metadata": {},
   "outputs": [],
   "source": [
    "yesterday = date.today() - timedelta(days=1)\n",
    "yesterday.strftime('%m/%d/%Y')"
   ]
  },
  {
   "cell_type": "code",
   "execution_count": null,
   "metadata": {},
   "outputs": [],
   "source": [
    "df_jhu_us_dict = pd.read_pickle(yesterday.strftime('%d_%b_%Y') + r'_JHU_data.pkl')"
   ]
  },
  {
   "cell_type": "code",
   "execution_count": null,
   "metadata": {},
   "outputs": [],
   "source": [
    "x = pd.date_range(start='4/12/2020', end=yesterday)\n",
    "#x = pd.date_range(start='7/12/2021', end='9/08/2021')"
   ]
  },
  {
   "cell_type": "code",
   "execution_count": null,
   "metadata": {},
   "outputs": [],
   "source": [
    "date_list = []\n",
    "for date_value in x.strftime('%m-%d-%Y'):\n",
    "    date_list.append(date_value)\n",
    "dt_date_list = pd.to_datetime(pd.Series(date_list))"
   ]
  },
  {
   "cell_type": "code",
   "execution_count": null,
   "metadata": {},
   "outputs": [],
   "source": [
    "list(df_jhu_us_dict.keys())[0]"
   ]
  },
  {
   "cell_type": "code",
   "execution_count": null,
   "metadata": {},
   "outputs": [],
   "source": [
    "State_list =list(df_jhu_us_dict[list(df_jhu_us_dict.keys())[0]].Province_State)"
   ]
  },
  {
   "cell_type": "code",
   "execution_count": null,
   "metadata": {},
   "outputs": [],
   "source": [
    "State_list.remove('Recovered')"
   ]
  },
  {
   "cell_type": "code",
   "execution_count": null,
   "metadata": {},
   "outputs": [],
   "source": [
    "State_list"
   ]
  },
  {
   "cell_type": "code",
   "execution_count": null,
   "metadata": {},
   "outputs": [],
   "source": [
    "def process_state_deaths(passed_state):\n",
    "    print(passed_state)\n",
    "    aaa = df_jhu_us_dict[date_list[0]].loc[df_jhu_us_dict[date_list[0]].Province_State == passed_state]\n",
    "#    print(aaa)\n",
    "    for d_value in date_list[1:]:\n",
    "        aaa = aaa.append(df_jhu_us_dict[d_value].loc[df_jhu_us_dict[d_value].Province_State == passed_state])\n",
    "#    return(xxx)\n",
    "    bbb = aaa.loc[:,['dt_date','Deaths']]\n",
    "    ccc = bbb.set_index('dt_date')\n",
    "    ddd = ccc.diff(periods = 1)\n",
    "    ddd_7day_moving = ddd.rolling(7).mean().shift()\n",
    "    return(ddd,passed_state,ddd_7day_moving)"
   ]
  },
  {
   "cell_type": "code",
   "execution_count": null,
   "metadata": {},
   "outputs": [],
   "source": [
    "def chart_daily_deaths(passed_df, passed_state_name, ddd_7day_moving):\n",
    "    months = mdates.MonthLocator()\n",
    "    days = mdates.DayLocator()\n",
    "    timeFmt = mdates.DateFormatter('%b %Y')\n",
    "    fig, ax = plt.subplots()\n",
    "    fig.set_size_inches(18,10)\n",
    "    ax.xaxis.set_major_locator(months)\n",
    "    ax.xaxis.set_major_formatter(timeFmt)\n",
    "#ax.xaxis.set_minor_locator(months)\n",
    "    plt.title('Johns Hopkins University ***' + passed_state_name + '*** Daily COVID Deaths')\n",
    "    plt.xlabel('Date',color='black')\n",
    "    plt.ylabel('New COVID Deaths',color='black')\n",
    "    plt.bar(passed_df.index,passed_df.Deaths)\n",
    "    plt.plot(ddd_7day_moving,'ro-')\n",
    "    plt.legend(['7 Day Rolling Average','Daily Deaths'])\n",
    "    fig.savefig('JHUDaily '+ passed_state_name + ' Deaths.png')\n",
    "plt.close()"
   ]
  },
  {
   "cell_type": "code",
   "execution_count": null,
   "metadata": {
    "scrolled": false
   },
   "outputs": [],
   "source": [
    "for x in State_list:\n",
    "    return_deaths = process_state_deaths(x)\n",
    "    chart_daily_deaths(return_deaths[0],return_deaths[1],return_deaths[2])"
   ]
  },
  {
   "cell_type": "code",
   "execution_count": null,
   "metadata": {
    "scrolled": false
   },
   "outputs": [],
   "source": [
    "for x in ['California','Oregon','Alabama','Florida','Georgia', 'Mississippi','Alaska','Ohio','Idaho','Maine','Connecticut','Vermont','Texas','Arkansas','North Carolina']:\n",
    "    return_deaths = process_state_deaths(x)\n",
    "    chart_daily_deaths(return_deaths[0],return_deaths[1],return_deaths[2])"
   ]
  },
  {
   "cell_type": "code",
   "execution_count": null,
   "metadata": {},
   "outputs": [],
   "source": []
  },
  {
   "cell_type": "code",
   "execution_count": null,
   "metadata": {},
   "outputs": [],
   "source": []
  },
  {
   "cell_type": "code",
   "execution_count": null,
   "metadata": {
    "scrolled": true
   },
   "outputs": [],
   "source": []
  },
  {
   "cell_type": "code",
   "execution_count": null,
   "metadata": {},
   "outputs": [],
   "source": []
  }
 ],
 "metadata": {
  "kernelspec": {
   "display_name": "Python 3",
   "language": "python",
   "name": "python3"
  },
  "language_info": {
   "codemirror_mode": {
    "name": "ipython",
    "version": 3
   },
   "file_extension": ".py",
   "mimetype": "text/x-python",
   "name": "python",
   "nbconvert_exporter": "python",
   "pygments_lexer": "ipython3",
   "version": "3.8.10"
  }
 },
 "nbformat": 4,
 "nbformat_minor": 4
}
